{
 "metadata": {
  "name": ""
 },
 "nbformat": 3,
 "nbformat_minor": 0,
 "worksheets": [
  {
   "cells": [
    {
     "cell_type": "code",
     "collapsed": false,
     "input": [
      "# -*- coding: utf-8 -*-\n",
      "\n",
      "import pandas as pd\n",
      "import numpy as np\n",
      "from pandas import Series, DataFrame\n",
      "import matplotlib.pyplot as plt\n",
      "plt.rcParams['font.sans-serif']=['SimHel']\n",
      "plt.rcParams['axes.unicode_minus' ] = False\n",
      "\n",
      "data_train = pd.read_csv(\"./train.csv\")\n",
      "\n",
      "fig = plt.figure()\n",
      "fig.set(alpha=0.2)  # \u8bbe\u5b9a\u56fe\u8868\u989c\u8272alpha\u53c2\u6570\n",
      "\n",
      "plt.subplot2grid((2,3),(0,0))             # \u5728\u4e00\u5f20\u5927\u56fe\u91cc\u5206\u5217\u51e0\u4e2a\u5c0f\u56fe\n",
      "data_train.Survived.value_counts().plot(kind='bar')# \u67f1\u72b6\u56fe \n",
      "plt.title(u\"\u83b7\u6551\u60c5\u51b5 (1\u4e3a\u83b7\u6551)\") # \u6807\u9898\n",
      "plt.ylabel(u\"\u4eba\u6570\")  \n",
      "\n",
      "plt.subplot2grid((2,3),(0,1))\n",
      "data_train.Pclass.value_counts().plot(kind=\"bar\")\n",
      "plt.ylabel(u\"\u4eba\u6570\")\n",
      "plt.title(u\"\u4e58\u5ba2\u7b49\u7ea7\u5206\u5e03\")\n",
      "\n",
      "plt.subplot2grid((2,3),(0,2))\n",
      "plt.scatter(data_train.Survived, data_train.Age)\n",
      "plt.ylabel(u\"\u5e74\u9f84\")                         # \u8bbe\u5b9a\u7eb5\u5750\u6807\u540d\u79f0\n",
      "plt.grid(b=True, which='major', axis='y') \n",
      "plt.title(u\"\u6309\u5e74\u9f84\u770b\u83b7\u6551\u5206\u5e03 (1\u4e3a\u83b7\u6551)\")\n",
      "\n",
      "\n",
      "plt.subplot2grid((2,3),(1,0), colspan=2)\n",
      "data_train.Age[data_train.Pclass == 1].plot(kind='kde')   \n",
      "data_train.Age[data_train.Pclass == 2].plot(kind='kde')\n",
      "data_train.Age[data_train.Pclass == 3].plot(kind='kde')\n",
      "plt.xlabel(u\"\u5e74\u9f84\")# plots an axis lable\n",
      "plt.ylabel(u\"\u5bc6\u5ea6\") \n",
      "plt.title(u\"\u5404\u7b49\u7ea7\u7684\u4e58\u5ba2\u5e74\u9f84\u5206\u5e03\")\n",
      "plt.legend((u'\u5934\u7b49\u8231', u'2\u7b49\u8231',u'3\u7b49\u8231'),loc='best') # sets our legend for our graph.\n",
      "\n",
      "\n",
      "plt.subplot2grid((2,3),(1,2))\n",
      "data_train.Embarked.value_counts().plot(kind='bar')\n",
      "plt.title(u\"\u5404\u767b\u8239\u53e3\u5cb8\u4e0a\u8239\u4eba\u6570\")\n",
      "plt.ylabel(u\"\u4eba\u6570\")  \n",
      "plt.show()"
     ],
     "language": "python",
     "metadata": {},
     "outputs": [],
     "prompt_number": "*"
    },
    {
     "cell_type": "code",
     "collapsed": false,
     "input": [],
     "language": "python",
     "metadata": {},
     "outputs": []
    }
   ],
   "metadata": {}
  }
 ]
}